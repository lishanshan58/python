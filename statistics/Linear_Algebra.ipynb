{
 "metadata": {
  "name": ""
 },
 "nbformat": 3,
 "nbformat_minor": 0,
 "worksheets": [
  {
   "cells": [
    {
     "cell_type": "heading",
     "level": 4,
     "metadata": {},
     "source": [
      "Solving Systems of Linear Equations:"
     ]
    },
    {
     "cell_type": "code",
     "collapsed": false,
     "input": [
      "import numpy as np\n",
      "\n",
      "A = np.mat(\"2 2 1;2 -1 2;1 -1 2\")\n",
      "b = np.array([9,6,5])"
     ],
     "language": "python",
     "metadata": {},
     "outputs": [],
     "prompt_number": 38
    },
    {
     "cell_type": "code",
     "collapsed": false,
     "input": [
      "z = np.linalg.solve(A,b)"
     ],
     "language": "python",
     "metadata": {},
     "outputs": [],
     "prompt_number": 39
    },
    {
     "cell_type": "heading",
     "level": 4,
     "metadata": {},
     "source": [
      "Solving Multiple Regression using Matrix Form:"
     ]
    },
    {
     "cell_type": "code",
     "collapsed": false,
     "input": [
      "import numpy as np\n",
      "from numpy.random import random\n",
      " \n",
      "n=100; k=10\n",
      "y = np.mat(random((1,n)))\n",
      "X = np.mat(random((k,n)))\n",
      " \n",
      "b= y * X.T * np.linalg.inv(X*X.T)\n",
      "print(b)"
     ],
     "language": "python",
     "metadata": {},
     "outputs": [
      {
       "output_type": "stream",
       "stream": "stdout",
       "text": [
        "[[ 0.13773512  0.10192744  0.03039044  0.01660312 -0.01199574  0.07833716\n",
        "   0.13113668  0.1050361   0.14412408  0.21726719]]\n"
       ]
      }
     ],
     "prompt_number": 41
    }
   ],
   "metadata": {}
  }
 ]
}